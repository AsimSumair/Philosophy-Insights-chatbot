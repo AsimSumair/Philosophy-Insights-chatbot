{
 "cells": [
  {
   "cell_type": "markdown",
   "metadata": {},
   "source": [
    "##### Setting up the environment: Acquire necessary API keys for ChatGPT and install required libraries/packages for Python or Node.js. Configure the development environment to make API calls efficiently.\n",
    "\n"
   ]
  },
  {
   "cell_type": "code",
   "execution_count": 36,
   "metadata": {},
   "outputs": [],
   "source": [
    "import google.generativeai as genai\n",
    "import os\n",
    "from dotenv import load_dotenv\n",
    "import requests\n",
    "from bs4 import BeautifulSoup\n",
    "import re\n",
    "load_dotenv()\n",
    "\n",
    "# Configure the google api key\n",
    "genai.configure(api_key=os.getenv(\"GOOGLE_API_KEY\"))"
   ]
  },
  {
   "cell_type": "markdown",
   "metadata": {},
   "source": [
    "##### Extracting data: Create a script to fetch the website's content via the provided URL. Extract relevant information from the website by using web scraping techniques, such as Beautiful Soup for Python or Cheerio for Node.js.\n",
    "##### Processing data: Identify and structure key information from the scraped content, which can be used as input to the ChatGPT API to generate meaningful responses.  "
   ]
  },
  {
   "cell_type": "code",
   "execution_count": 22,
   "metadata": {},
   "outputs": [
    {
     "name": "stdout",
     "output_type": "stream",
     "text": [
      "Cleaned article content extracted and saved to 'philosophy_article_cleaned.txt'.\n"
     ]
    }
   ],
   "source": [
    "# The URL of the Wikipedia page to scrape\n",
    "url = \"https://simple.wikipedia.org/wiki/Philosophy\"\n",
    "\n",
    "# Send an HTTP request to the URL\n",
    "response = requests.get(url)\n",
    "soup = BeautifulSoup(response.text, 'html.parser')\n",
    "\n",
    "# Find the main content of the article (inside the 'mw-parser-output' div)\n",
    "article_div = soup.find('div', class_='mw-parser-output')\n",
    "\n",
    "# Define keywords to exclude paragraphs that contain these\n",
    "exclude_keywords = [\"Related pages\", \"General sources\", \"References\", \"Other websites\"]\n",
    "\n",
    "# Extract all paragraphs and headings while excluding unwanted sections\n",
    "article_content = \"\"\n",
    "if article_div:\n",
    "    # Loop through paragraphs and headings inside the article div\n",
    "    for element in article_div.find_all(['p', 'h2', 'h3', 'h4']):\n",
    "        text = element.get_text()\n",
    "        # Check if the paragraph contains any of the exclude keywords\n",
    "        if not any(keyword in text for keyword in exclude_keywords):\n",
    "            article_content += text + \"\\n\"\n",
    "\n",
    "# Save the cleaned article content to a file\n",
    "with open(\"philosophy_article_cleaned.txt\", \"w\", encoding=\"utf-8\") as file:\n",
    "    file.write(article_content)\n",
    "\n",
    "print(\"Cleaned article content extracted and saved to 'philosophy_article_cleaned.txt'.\")"
   ]
  },
  {
   "cell_type": "markdown",
   "metadata": {},
   "source": [
    "##### Implementing the chatbot: Utilize the Google Gemini API to build the chatbot. Design the chatbot to take user inputs, process them, and generate suitable responses using the information obtained from the website."
   ]
  },
  {
   "cell_type": "code",
   "execution_count": 45,
   "metadata": {},
   "outputs": [],
   "source": [
    "\n",
    "# Read the article text from the file\n",
    "with open('philosophy_article_cleaned.txt', 'r') as file:\n",
    "    article_text = file.read()\n",
    "    \n",
    "def gemini_client_response(user_input):\n",
    "    # Create a Gemini client\n",
    "    client = genai.GeminiClient()\n",
    "\n",
    "    # Prepare the prompt with user input and the article text\n",
    "    prompt = f\"User asked: {user_input}\\nBased on the following info: {article_text}\"\n",
    "\n",
    "    # Use the Gemini API to create a completion based on the user's input\n",
    "    response = client.generate_response(\n",
    "        prompt=prompt,\n",
    "        max_tokens=150, \n",
    "        temperature=0.8 \n",
    "    )\n",
    "\n",
    "    # Return the text response from the API\n",
    "    return response.text.strip()\n"
   ]
  },
  {
   "cell_type": "markdown",
   "metadata": {},
   "source": [
    "### Get Response From google gemini-1.5-pro model "
   ]
  },
  {
   "cell_type": "code",
   "execution_count": 42,
   "metadata": {},
   "outputs": [],
   "source": [
    "\n",
    "def get_gemini_response(question, prompt):\n",
    "    model = genai.GenerativeModel(model_name='gemini-1.5-pro')\n",
    "    response = model.generate_content(prompt + \"\\n\" + question)  \n",
    "    return response.text"
   ]
  },
  {
   "cell_type": "markdown",
   "metadata": {},
   "source": [
    "##### Console demonstration: Prepare the chatbot to function seamlessly via the console, enabling users to interact with it, provide inputs, and receive relevant responses."
   ]
  },
  {
   "cell_type": "code",
   "execution_count": 49,
   "metadata": {},
   "outputs": [
    {
     "name": "stdout",
     "output_type": "stream",
     "text": [
      "Welcome to the GenAI Chatbot! Type 'exit' to end the conversation.\n",
      "GenAI: Hi! It seems like you've provided a very comprehensive overview of philosophy. What can I help you with today?  Do you have any specific questions about philosophy based on the information you provided? \n",
      "\n",
      "For example, I can help you:\n",
      "\n",
      "* **Explain a concept:** Do you need clarification on any of the philosophical terms or concepts mentioned?\n",
      "* **Discuss a philosopher:** Are you interested in learning more about a specific philosopher, like Plato, Aristotle, or Confucius?\n",
      "* **Explore a branch of philosophy:** Would you like to delve deeper into a particular area like metaphysics, ethics, or epistemology?\n",
      "* **Compare different philosophies:**  Are you curious about the differences between existentialism and other philosophies? \n",
      "\n",
      "Let me know how I can help you further explore the fascinating world of philosophy!\n",
      "GenAI: ## Philosophy: The Love of Wisdom\n",
      "\n",
      "Philosophy, stemming from the Greek word \"philosophia\" meaning \"love of wisdom,\" is the study of fundamental questions about existence, knowledge, values, reason, and language. It's a way of thinking critically and systematically about the world, ourselves, and how we should live. \n",
      "\n",
      "Here's a breakdown based on the information you provided:\n",
      "\n",
      "**Key Aspects:**\n",
      "\n",
      "* **Focus:** Examining fundamental questions about existence, knowledge, values, reason, and language.\n",
      "* **Method:**  Critical and systematic thinking, logical analysis, reasoned argumentation.\n",
      "* **Goal:**  Seeking truth and understanding, even if definitive answers remain elusive.\n",
      "\n",
      "**Core Questions:**\n",
      "\n",
      "Philosophy grapples with questions like:\n",
      "\n",
      "* **Metaphysics:** What is reality? What is the nature of existence? Does God exist?\n",
      "* **Epistemology:** What is knowledge? How do we acquire knowledge? What are the limits of knowledge?\n",
      "* **Ethics:** What is right and wrong? What makes an action moral? How should we live our lives?\n",
      "* **Aesthetics:** What is beauty? What is art? What is the purpose of art?\n",
      "* **Logic:** What constitutes sound reasoning? How can we identify fallacies in arguments?\n",
      "\n",
      "**Historical Development:**\n",
      "\n",
      "* **Ancient Greece:** Birthplace of Western philosophy with figures like Socrates, Plato, and Aristotle.\n",
      "* **Eastern Traditions:** Rich philosophical traditions in Asia, with figures like Confucius, Buddha, and Laozi.\n",
      "* **Medieval Period:** Integration of philosophy with religion, exemplified by thinkers like Thomas Aquinas.\n",
      "* **Modern Era:**  Emphasis on reason and individual experience, with figures like Descartes, Locke, and Kant.\n",
      "* **Contemporary Philosophy:** Diverse approaches tackling current issues like technology, identity, and globalization.\n",
      "\n",
      "**Impact and Significance:**\n",
      "\n",
      "* **Foundation of Knowledge:**  Influenced the development of many disciplines, including science, psychology, and law.\n",
      "* **Critical Thinking:**  Provides tools for analyzing arguments, evaluating evidence, and forming reasoned judgments.\n",
      "* **Ethical Guidance:**  Offers frameworks for understanding moral dilemmas and making ethical choices.\n",
      "* **Personal Growth:**  Encourages self-reflection, questioning assumptions, and living a more examined life.\n",
      "\n",
      "**In essence, philosophy is a journey of intellectual exploration, seeking wisdom and understanding through reasoned inquiry and critical thinking. It challenges us to examine our beliefs, question assumptions, and strive for a more meaningful and ethical existence.**\n",
      "GenAI: ## What is Philosophy?\n",
      "\n",
      "Philosophy, at its core, is a love of wisdom. The word itself comes from the ancient Greek \"philosophia,\" combining \"philo\" (love) and \"sophia\" (wisdom). It's a way of **thinking deeply and critically** about fundamental questions concerning the world, ourselves, and our place within it. \n",
      "\n",
      "While philosophy once encompassed natural sciences, it has evolved into a distinct field that grapples with **abstract and complex concepts**. This doesn't mean it's detached from reality. In fact, it explores questions directly relevant to our lives, such as:\n",
      "\n",
      "* **Ethics:** What does it mean to live a good life? How should we treat each other?\n",
      "* **Metaphysics:** What is the nature of reality? Does God exist? What is the relationship between mind and body?\n",
      "* **Epistemology:** What is knowledge? How do we acquire it? Can we be certain about anything?\n",
      "\n",
      "These are just a few examples of the vast landscape of philosophical inquiry.  \n",
      "\n",
      "**Here's a breakdown of key aspects of philosophy:**\n",
      "\n",
      "* **It's about asking questions:** Unlike fields that seek definitive answers, philosophy thrives on continuous questioning and exploration of different perspectives. \n",
      "* **It uses reason and logic:**  Philosophers employ rigorous arguments and logical analysis to examine beliefs and theories.\n",
      "* **It has a rich history:** From ancient Greek thinkers like Plato and Aristotle to modern philosophers like Simone de Beauvoir and Cornel West, philosophy boasts a diverse and evolving tradition.\n",
      "* **It influences other fields:**  Philosophy has played a crucial role in shaping fields like science, politics, art, and religion.\n",
      "\n",
      "**Is philosophy good or bad?** \n",
      "\n",
      "That's a philosophical question itself!  While some argue that philosophy's critical thinking can be disruptive, most agree that its pursuit of truth, understanding, and ethical behavior ultimately benefits individuals and society.\n",
      "\n",
      "**In essence, philosophy is an ongoing conversation about the big questions in life. It encourages us to think critically, challenge assumptions, and strive for a deeper understanding of ourselves and the world around us.**\n",
      "GenAI: It's impossible to say definitively whether philosophy is \"good\" or \"bad\" – it's much more nuanced than that!  Here's why:\n",
      "\n",
      "**Arguments for Philosophy being \"Good\":**\n",
      "\n",
      "* **Promotes Critical Thinking:** Philosophy encourages questioning assumptions, analyzing arguments, and thinking deeply about complex issues. This is valuable for personal growth and making informed decisions.\n",
      "* **Expands Understanding:** It grapples with fundamental questions about existence, morality, knowledge, and reality, broadening our perspectives and challenging us to think differently.\n",
      "* **Fosters Ethical Reasoning:**  Ethics, a branch of philosophy, provides frameworks for making moral judgments and considering the consequences of our actions.\n",
      "* **Historical Significance:** Philosophy has profoundly influenced human history, shaping political systems, social movements, scientific advancements, and artistic expressions.\n",
      "\n",
      "**Arguments for Philosophy being \"Bad\" (or at least challenging):**\n",
      "\n",
      "* **Can Be Subjective and Contentious:**  Philosophical ideas are often open to interpretation, leading to disagreements and even conflict.\n",
      "* **Questions Established Beliefs:** Philosophy can challenge religious, political, or social norms, which some may find unsettling or threatening.\n",
      "* **Can Be Impractical:**  Some criticize philosophy for being too abstract or theoretical, detached from the practical concerns of everyday life. \n",
      "* **Historically Associated with Elitism:**  Philosophy has sometimes been seen as an exclusive domain for intellectuals, excluding those without formal training.\n",
      "\n",
      "**The Bottom Line:**\n",
      "\n",
      "Philosophy is a powerful tool. Like any tool, it can be used for good or ill, depending on the intent and approach. Instead of labeling it as simply \"good\" or \"bad\", it's more accurate to say that:\n",
      "\n",
      "* Philosophy is **valuable** for promoting critical thinking, expanding understanding, and fostering ethical reasoning.\n",
      "* Philosophy can be **challenging** because it questions established beliefs, can be subjective, and is sometimes perceived as impractical or elitist.\n",
      "\n",
      "Ultimately, whether you find philosophy personally enriching or frustrating is a matter of individual perspective and engagement.\n",
      "GenAI: It's impossible to declare philosophy definitively \"good\" or \"bad.\"  Here's why:\n",
      "\n",
      "* **Subjectivity:**  The value of philosophy is subjective and depends on individual perspectives. What one person finds enriching, another might deem useless or even harmful. \n",
      "* **Diverse Schools of Thought:**  Philosophy encompasses a vast spectrum of ideas, some of which contradict each other.  A single label like \"good\" or \"bad\" can't encompass this complexity.\n",
      "* **Potential Benefits:**\n",
      "    * **Critical Thinking:**  Philosophy hones analytical and logical reasoning skills, encouraging thoughtful examination of beliefs and assumptions.\n",
      "    * **Ethical Framework:**  Ethics, a branch of philosophy, provides frameworks for moral decision-making and understanding right and wrong.\n",
      "    * **Meaning and Purpose:** Philosophy grapples with fundamental questions about existence, purpose, and the human condition, potentially offering insights into these matters.\n",
      "* **Potential Drawbacks:**\n",
      "    * **Abstraction:**  Some find philosophical concepts too abstract or impractical for daily life.\n",
      "    * **Disagreement and Uncertainty:**  Philosophy often lacks definitive answers, which can be frustrating for those seeking certainty.\n",
      "    * **Challenges to Beliefs:** Philosophy encourages questioning established beliefs, which can be unsettling or even threatening to some.\n",
      "\n",
      "**Conclusion:**\n",
      "\n",
      "Philosophy, like any powerful tool, can be used for both constructive and destructive purposes. Its value lies in its capacity to foster critical thinking, ethical reflection, and a deeper understanding of ourselves and the world. Ultimately, whether philosophy is \"good\" or \"bad\" is a judgment each individual must make based on their own values and experiences.\n"
     ]
    }
   ],
   "source": [
    "\n",
    "def gemini_chatbot(user_input):\n",
    "    # Prepare the prompt with user input and the article text\n",
    "    prompt = f\"User asked: {user_input}\\nBased on the following info: {article_text}\"\n",
    "\n",
    "    # Get response from the Gemini API\n",
    "    response = get_gemini_response(user_input, prompt)\n",
    "    \n",
    "    return response.strip()\n",
    "\n",
    "def start_chat():\n",
    "    print(\"Welcome to the GenAI Chatbot! Type 'exit' to end the conversation.\")\n",
    "    while True:\n",
    "        user_input = input(\"You: \")\n",
    "        if user_input.lower() == \"exit\":\n",
    "            print(\"Goodbye! Have a great day!\")\n",
    "            break\n",
    "        response = gemini_chatbot(user_input)\n",
    "        print(f\"GenAI: {response}\")\n",
    "\n",
    "# Start the chatbot\n",
    "start_chat()\n"
   ]
  }
 ],
 "metadata": {
  "kernelspec": {
   "display_name": "python-env",
   "language": "python",
   "name": "python3"
  },
  "language_info": {
   "codemirror_mode": {
    "name": "ipython",
    "version": 3
   },
   "file_extension": ".py",
   "mimetype": "text/x-python",
   "name": "python",
   "nbconvert_exporter": "python",
   "pygments_lexer": "ipython3",
   "version": "3.10.5"
  }
 },
 "nbformat": 4,
 "nbformat_minor": 2
}
